{
 "cells": [
  {
   "cell_type": "code",
   "execution_count": 1,
   "metadata": {},
   "outputs": [],
   "source": [
    "import numpy as np\n",
    "import pandas as pd\n",
    "\n",
    "import logistic_regression\n",
    "import matplotlib.pyplot as plt\n",
    "from sklearn.model_selection import train_test_split\n",
    "from sklearn.metrics import confusion_matrix\n",
    "from sklearn.linear_model import LogisticRegression\n",
    "\n",
    "np.random.seed(44) # for comparison of results"
   ]
  },
  {
   "cell_type": "markdown",
   "metadata": {},
   "source": [
    "# Comparison of different optimization methods for logistic regression\n",
    "\n",
    "In the following notebook, we will compare different optimization methods for logistic regression. We will use one generated dataseta along with many real datasets. We will compare the following optimization methods:\n",
    "- IWLS (Iteratively Reweighted Least Squares)\n",
    "- SGD (Stochastic Gradient Descent)\n",
    "- ADAM (Adaptive Moment Estimation)\n",
    "\n",
    "We will also compare the performance of the optimization methods using interactions between features and without.\n",
    "\n",
    "The parameters of the optimization methods are choosen to be default for each method:\n",
    "\n",
    "## Stopping criterion\n",
    "\n",
    "To make a comparison fair, we propose the same stopping rule for each algorithm.\n",
    "We will stop the optimization when the values of the gradient are less than 1^{-3} or when the number of iterations is greater than 100.\n",
    "\n",
    "CONSIDER DIFFERENT STOPPING RULES"
   ]
  },
  {
   "cell_type": "code",
   "execution_count": 20,
   "metadata": {},
   "outputs": [],
   "source": [
    "def compare_methods(X, y, algorithms = [\"iwls\", \"sgd\", \"adam\"], k = 5, test_size = 0.2, interaction = False):\n",
    "    balanced_accuracies = {}\n",
    "    interaction_opt = [False]\n",
    "    if interaction:\n",
    "        interaction_opt.append(True)\n",
    "\n",
    "    for alg in algorithms:\n",
    "        balanced_accuracies[alg] = []\n",
    "        \n",
    "        print(f\"Using algorithm: {alg}\" + (\" with interactions\" if interaction else \"\"))\n",
    "        for inter in interaction_opt:\n",
    "            alg_name = alg + (\"_inter\" if inter else \"\")\n",
    "            for i in range(k):\n",
    "                X_train, X_test, y_train, y_test = train_test_split(X, y, test_size=test_size)\n",
    "                model = logistic_regression.LogisticRegressor(descent_algorithm = alg, include_interactions = inter)\n",
    "                model.fit(X_train, y_train, max_num_epoch = 100, tolerance=1e-3)\n",
    "                balanced_accuracies[alg].append(model.balanced_accuracy(X_test, y_test))\n",
    "                print(f\"Balanced accuracy: {balanced_accuracies[alg_name][-1]}\")\n",
    "            print(f\"Mean accuracy: {np.mean(balanced_accuracies[alg_name])}\")\n",
    "    balanced_accuracies = pd.DataFrame(balanced_accuracies)\n",
    "    return balanced_accuracies"
   ]
  },
  {
   "cell_type": "markdown",
   "metadata": {},
   "source": [
    "## Datasets"
   ]
  },
  {
   "cell_type": "markdown",
   "metadata": {},
   "source": [
    "### artificial data"
   ]
  },
  {
   "cell_type": "code",
   "execution_count": 21,
   "metadata": {},
   "outputs": [
    {
     "data": {
      "text/plain": [
       "0.488"
      ]
     },
     "execution_count": 21,
     "metadata": {},
     "output_type": "execute_result"
    }
   ],
   "source": [
    "import numpy as np\n",
    "from scipy.special import expit as sigmoid\n",
    "n = 1000\n",
    "\n",
    "a = 10\n",
    "\n",
    "# Generate y observations from the binomial distribution\n",
    "y = np.random.binomial(1, 0.5, size=n)\n",
    "\n",
    "true_beta = np.array([5, 3])\n",
    "\n",
    "X = np.random.normal(size = (n, 2))\n",
    "\n",
    "y = np.random.binomial(1, sigmoid(X @ true_beta))\n",
    "\n",
    "np.mean(y)"
   ]
  },
  {
   "cell_type": "code",
   "execution_count": 22,
   "metadata": {},
   "outputs": [
    {
     "name": "stdout",
     "output_type": "stream",
     "text": [
      "Using algorithm: iwls\n",
      "Balanced accuracy: 0.9150660264105642\n",
      "Balanced accuracy: 0.8956582633053222\n",
      "Balanced accuracy: 0.8896025692492975\n",
      "Balanced accuracy: 0.9138522028430285\n",
      "Balanced accuracy: 0.9046474358974359\n",
      "Mean accuracy: 0.9037652995411296\n",
      "Using algorithm: sgd\n",
      "Balanced accuracy: 0.9058623449379752\n",
      "Balanced accuracy: 0.9293717486994798\n",
      "Balanced accuracy: 0.9121212121212121\n",
      "Balanced accuracy: 0.9091636654661864\n",
      "Balanced accuracy: 0.9211614073999395\n",
      "Mean accuracy: 0.9155360757249585\n",
      "Using algorithm: adam\n",
      "Balanced accuracy: 0.930172068827531\n",
      "Balanced accuracy: 0.92\n",
      "Balanced accuracy: 0.9426561392853527\n",
      "Balanced accuracy: 0.8780623046678093\n",
      "Balanced accuracy: 0.9210950080515299\n",
      "Mean accuracy: 0.9183971041664446\n"
     ]
    }
   ],
   "source": [
    "df = compare_methods(X, y)"
   ]
  },
  {
   "cell_type": "code",
   "execution_count": 23,
   "metadata": {},
   "outputs": [
    {
     "data": {
      "text/plain": [
       "<Axes: >"
      ]
     },
     "execution_count": 23,
     "metadata": {},
     "output_type": "execute_result"
    },
    {
     "data": {
      "image/png": "[encoded data removed]",
      "text/plain": [
       "<Figure size 640x480 with 1 Axes>"
      ]
     },
     "metadata": {},
     "output_type": "display_data"
    }
   ],
   "source": [
    "df.boxplot()"
   ]
  },
  {
   "cell_type": "markdown",
   "metadata": {},
   "source": [
    "# Aids"
   ]
  },
  {
   "cell_type": "code",
   "execution_count": 3,
   "metadata": {},
   "outputs": [],
   "source": [
    "aids = pd.read_csv('data/aids.csv')\n",
    "\n",
    "y = aids['target']\n",
    "X = aids.drop('target', axis=1)\n",
    "X_train, X_test, y_train, y_test = train_test_split(X, y, test_size=0.2, random_state=43)"
   ]
  },
  {
   "cell_type": "code",
   "execution_count": 4,
   "metadata": {},
   "outputs": [
    {
     "name": "stdout",
     "output_type": "stream",
     "text": [
      "Using algorithm: iwls\n"
     ]
    },
    {
     "ename": "LinAlgError",
     "evalue": "Singular matrix",
     "output_type": "error",
     "traceback": [
      "\u001b[1;31m---------------------------------------------------------------------------\u001b[0m",
      "\u001b[1;31mLinAlgError\u001b[0m                               Traceback (most recent call last)",
      "Cell \u001b[1;32mIn[4], line 1\u001b[0m\n\u001b[1;32m----> 1\u001b[0m \u001b[43mcompare_methods\u001b[49m\u001b[43m(\u001b[49m\u001b[43mX\u001b[49m\u001b[43m,\u001b[49m\u001b[43m \u001b[49m\u001b[43my\u001b[49m\u001b[43m)\u001b[49m\n",
      "Cell \u001b[1;32mIn[2], line 5\u001b[0m, in \u001b[0;36mcompare_methods\u001b[1;34m(X, y, algorithms)\u001b[0m\n\u001b[0;32m      3\u001b[0m \u001b[38;5;28mprint\u001b[39m(\u001b[38;5;124mf\u001b[39m\u001b[38;5;124m\"\u001b[39m\u001b[38;5;124mUsing algorithm: \u001b[39m\u001b[38;5;132;01m{\u001b[39;00malg\u001b[38;5;132;01m}\u001b[39;00m\u001b[38;5;124m\"\u001b[39m)\n\u001b[0;32m      4\u001b[0m model \u001b[38;5;241m=\u001b[39m logistic_regression\u001b[38;5;241m.\u001b[39mLogisticRegressor(descent_algorithm \u001b[38;5;241m=\u001b[39m alg)\n\u001b[1;32m----> 5\u001b[0m \u001b[43mmodel\u001b[49m\u001b[38;5;241;43m.\u001b[39;49m\u001b[43mfit\u001b[49m\u001b[43m(\u001b[49m\u001b[43mX\u001b[49m\u001b[43m,\u001b[49m\u001b[43m \u001b[49m\u001b[43my\u001b[49m\u001b[43m)\u001b[49m\n\u001b[0;32m      6\u001b[0m \u001b[38;5;28mprint\u001b[39m(\u001b[38;5;124mf\u001b[39m\u001b[38;5;124m\"\u001b[39m\u001b[38;5;124mAccuracy: \u001b[39m\u001b[38;5;132;01m{\u001b[39;00mmodel\u001b[38;5;241m.\u001b[39mbalanced_accuracy(X,\u001b[38;5;250m \u001b[39my)\u001b[38;5;132;01m}\u001b[39;00m\u001b[38;5;124m\"\u001b[39m)\n",
      "File \u001b[1;32md:\\studia\\sem6\\advml\\pro\\logistic_regression\\logistic_regression\\regressor.py:164\u001b[0m, in \u001b[0;36mLogisticRegressor.fit\u001b[1;34m(self, X, y, learning_rate, max_num_epoch, tolerance, batch_size, verbose)\u001b[0m\n\u001b[0;32m    151\u001b[0m     \u001b[38;5;28mself\u001b[39m\u001b[38;5;241m.\u001b[39mbeta \u001b[38;5;241m=\u001b[39m mini_batch_gd(\n\u001b[0;32m    152\u001b[0m         X_copy,\n\u001b[0;32m    153\u001b[0m         y,\n\u001b[1;32m   (...)\u001b[0m\n\u001b[0;32m    160\u001b[0m         verbose\u001b[38;5;241m=\u001b[39mverbose,\n\u001b[0;32m    161\u001b[0m     )\n\u001b[0;32m    163\u001b[0m \u001b[38;5;28;01melif\u001b[39;00m \u001b[38;5;28mself\u001b[39m\u001b[38;5;241m.\u001b[39mdescent_algorithm \u001b[38;5;241m==\u001b[39m \u001b[38;5;124m\"\u001b[39m\u001b[38;5;124miwls\u001b[39m\u001b[38;5;124m\"\u001b[39m:\n\u001b[1;32m--> 164\u001b[0m     \u001b[38;5;28mself\u001b[39m\u001b[38;5;241m.\u001b[39mbeta \u001b[38;5;241m=\u001b[39m \u001b[43miwls\u001b[49m\u001b[43m(\u001b[49m\n\u001b[0;32m    165\u001b[0m \u001b[43m        \u001b[49m\u001b[43mX_copy\u001b[49m\u001b[43m,\u001b[49m\n\u001b[0;32m    166\u001b[0m \u001b[43m        \u001b[49m\u001b[43my\u001b[49m\u001b[43m,\u001b[49m\n\u001b[0;32m    167\u001b[0m \u001b[43m        \u001b[49m\u001b[38;5;28;43mself\u001b[39;49m\u001b[38;5;241;43m.\u001b[39;49m\u001b[43mbeta\u001b[49m\u001b[43m,\u001b[49m\n\u001b[0;32m    168\u001b[0m \u001b[43m        \u001b[49m\u001b[43mmax_num_epoch\u001b[49m\u001b[38;5;241;43m=\u001b[39;49m\u001b[43mmax_num_epoch\u001b[49m\u001b[43m,\u001b[49m\n\u001b[0;32m    169\u001b[0m \u001b[43m        \u001b[49m\u001b[43mtolerance\u001b[49m\u001b[38;5;241;43m=\u001b[39;49m\u001b[43mtolerance\u001b[49m\u001b[43m,\u001b[49m\n\u001b[0;32m    170\u001b[0m \u001b[43m        \u001b[49m\u001b[43mverbose\u001b[49m\u001b[38;5;241;43m=\u001b[39;49m\u001b[43mverbose\u001b[49m\u001b[43m,\u001b[49m\n\u001b[0;32m    171\u001b[0m \u001b[43m    \u001b[49m\u001b[43m)\u001b[49m\n\u001b[0;32m    172\u001b[0m \u001b[38;5;28;01melif\u001b[39;00m \u001b[38;5;28mself\u001b[39m\u001b[38;5;241m.\u001b[39mdescent_algorithm \u001b[38;5;241m==\u001b[39m \u001b[38;5;124m\"\u001b[39m\u001b[38;5;124madam\u001b[39m\u001b[38;5;124m\"\u001b[39m:\n\u001b[0;32m    173\u001b[0m     \u001b[38;5;28mself\u001b[39m\u001b[38;5;241m.\u001b[39mbeta \u001b[38;5;241m=\u001b[39m adam(\n\u001b[0;32m    174\u001b[0m         X_copy,\n\u001b[0;32m    175\u001b[0m         y,\n\u001b[1;32m   (...)\u001b[0m\n\u001b[0;32m    181\u001b[0m         verbose\u001b[38;5;241m=\u001b[39mverbose,\n\u001b[0;32m    182\u001b[0m     )\n",
      "File \u001b[1;32md:\\studia\\sem6\\advml\\pro\\logistic_regression\\logistic_regression\\optimizers.py:156\u001b[0m, in \u001b[0;36miwls\u001b[1;34m(X, y, initial_solution, max_num_epoch, tolerance, epsilon, verbose)\u001b[0m\n\u001b[0;32m    154\u001b[0m P \u001b[38;5;241m=\u001b[39m sigmoid(X \u001b[38;5;241m@\u001b[39m current_solution)\n\u001b[0;32m    155\u001b[0m W \u001b[38;5;241m=\u001b[39m np\u001b[38;5;241m.\u001b[39mdiag(P \u001b[38;5;241m*\u001b[39m (\u001b[38;5;241m1\u001b[39m \u001b[38;5;241m-\u001b[39m P))\n\u001b[1;32m--> 156\u001b[0m Z \u001b[38;5;241m=\u001b[39m X \u001b[38;5;241m@\u001b[39m current_solution \u001b[38;5;241m+\u001b[39m \u001b[43mnp\u001b[49m\u001b[38;5;241;43m.\u001b[39;49m\u001b[43mlinalg\u001b[49m\u001b[38;5;241;43m.\u001b[39;49m\u001b[43minv\u001b[49m\u001b[43m(\u001b[49m\u001b[43mW\u001b[49m\u001b[43m)\u001b[49m \u001b[38;5;241m@\u001b[39m (y \u001b[38;5;241m-\u001b[39m P)\n\u001b[0;32m    157\u001b[0m H \u001b[38;5;241m=\u001b[39m X\u001b[38;5;241m.\u001b[39mT \u001b[38;5;241m@\u001b[39m W \u001b[38;5;241m@\u001b[39m X\n\u001b[0;32m    158\u001b[0m \u001b[38;5;66;03m# prevent singular matrix\u001b[39;00m\n",
      "File \u001b[1;32mc:\\Users\\tymot\\anaconda3\\envs\\prod\\lib\\site-packages\\numpy\\linalg\\linalg.py:561\u001b[0m, in \u001b[0;36minv\u001b[1;34m(a)\u001b[0m\n\u001b[0;32m    559\u001b[0m signature \u001b[38;5;241m=\u001b[39m \u001b[38;5;124m'\u001b[39m\u001b[38;5;124mD->D\u001b[39m\u001b[38;5;124m'\u001b[39m \u001b[38;5;28;01mif\u001b[39;00m isComplexType(t) \u001b[38;5;28;01melse\u001b[39;00m \u001b[38;5;124m'\u001b[39m\u001b[38;5;124md->d\u001b[39m\u001b[38;5;124m'\u001b[39m\n\u001b[0;32m    560\u001b[0m extobj \u001b[38;5;241m=\u001b[39m get_linalg_error_extobj(_raise_linalgerror_singular)\n\u001b[1;32m--> 561\u001b[0m ainv \u001b[38;5;241m=\u001b[39m \u001b[43m_umath_linalg\u001b[49m\u001b[38;5;241;43m.\u001b[39;49m\u001b[43minv\u001b[49m\u001b[43m(\u001b[49m\u001b[43ma\u001b[49m\u001b[43m,\u001b[49m\u001b[43m \u001b[49m\u001b[43msignature\u001b[49m\u001b[38;5;241;43m=\u001b[39;49m\u001b[43msignature\u001b[49m\u001b[43m,\u001b[49m\u001b[43m \u001b[49m\u001b[43mextobj\u001b[49m\u001b[38;5;241;43m=\u001b[39;49m\u001b[43mextobj\u001b[49m\u001b[43m)\u001b[49m\n\u001b[0;32m    562\u001b[0m \u001b[38;5;28;01mreturn\u001b[39;00m wrap(ainv\u001b[38;5;241m.\u001b[39mastype(result_t, copy\u001b[38;5;241m=\u001b[39m\u001b[38;5;28;01mFalse\u001b[39;00m))\n",
      "File \u001b[1;32mc:\\Users\\tymot\\anaconda3\\envs\\prod\\lib\\site-packages\\numpy\\linalg\\linalg.py:112\u001b[0m, in \u001b[0;36m_raise_linalgerror_singular\u001b[1;34m(err, flag)\u001b[0m\n\u001b[0;32m    111\u001b[0m \u001b[38;5;28;01mdef\u001b[39;00m \u001b[38;5;21m_raise_linalgerror_singular\u001b[39m(err, flag):\n\u001b[1;32m--> 112\u001b[0m     \u001b[38;5;28;01mraise\u001b[39;00m LinAlgError(\u001b[38;5;124m\"\u001b[39m\u001b[38;5;124mSingular matrix\u001b[39m\u001b[38;5;124m\"\u001b[39m)\n",
      "\u001b[1;31mLinAlgError\u001b[0m: Singular matrix"
     ]
    }
   ],
   "source": [
    "compare_methods(X, y)"
   ]
  },
  {
   "cell_type": "code",
   "execution_count": 4,
   "metadata": {},
   "outputs": [
    {
     "ename": "IndexError",
     "evalue": "tuple index out of range",
     "output_type": "error",
     "traceback": [
      "\u001b[1;31m---------------------------------------------------------------------------\u001b[0m",
      "\u001b[1;31mIndexError\u001b[0m                                Traceback (most recent call last)",
      "Cell \u001b[1;32mIn[4], line 3\u001b[0m\n\u001b[0;32m      1\u001b[0m lr \u001b[38;5;241m=\u001b[39m logistic_regression\u001b[38;5;241m.\u001b[39mLogisticRegressor(descent_algorithm\u001b[38;5;241m=\u001b[39m\u001b[38;5;124m\"\u001b[39m\u001b[38;5;124msgd\u001b[39m\u001b[38;5;124m\"\u001b[39m)\n\u001b[1;32m----> 3\u001b[0m \u001b[43mlr\u001b[49m\u001b[38;5;241;43m.\u001b[39;49m\u001b[43mfit\u001b[49m\u001b[43m(\u001b[49m\u001b[43mX_train\u001b[49m\u001b[43m,\u001b[49m\u001b[43m \u001b[49m\u001b[43my_train\u001b[49m\u001b[43m,\u001b[49m\u001b[43m \u001b[49m\u001b[43mmax_num_epoch\u001b[49m\u001b[38;5;241;43m=\u001b[39;49m\u001b[38;5;241;43m100\u001b[39;49m\u001b[43m)\u001b[49m\n\u001b[0;32m      5\u001b[0m y_pred \u001b[38;5;241m=\u001b[39m lr\u001b[38;5;241m.\u001b[39mpredict(X_test)\n\u001b[0;32m      6\u001b[0m lr\u001b[38;5;241m.\u001b[39mconfusion_matrix(X_test, y_test)\n",
      "File \u001b[1;32md:\\studia\\sem6\\advml\\pro\\logistic_regression\\logistic_regression\\regressor.py:180\u001b[0m, in \u001b[0;36mLogisticRegressor.fit\u001b[1;34m(self, X, y, learning_rate, max_num_epoch, batch_size, verbose)\u001b[0m\n\u001b[0;32m    170\u001b[0m     \u001b[38;5;28mself\u001b[39m\u001b[38;5;241m.\u001b[39mbeta \u001b[38;5;241m=\u001b[39m adam(\n\u001b[0;32m    171\u001b[0m         X_copy,\n\u001b[0;32m    172\u001b[0m         y,\n\u001b[1;32m   (...)\u001b[0m\n\u001b[0;32m    177\u001b[0m         verbose\u001b[38;5;241m=\u001b[39mverbose,\n\u001b[0;32m    178\u001b[0m     )\n\u001b[0;32m    179\u001b[0m \u001b[38;5;28;01melif\u001b[39;00m \u001b[38;5;28mself\u001b[39m\u001b[38;5;241m.\u001b[39mdescent_algorithm \u001b[38;5;241m==\u001b[39m \u001b[38;5;124m\"\u001b[39m\u001b[38;5;124msgd\u001b[39m\u001b[38;5;124m\"\u001b[39m:\n\u001b[1;32m--> 180\u001b[0m     \u001b[38;5;28mself\u001b[39m\u001b[38;5;241m.\u001b[39mbeta \u001b[38;5;241m=\u001b[39m \u001b[43msgd\u001b[49m\u001b[43m(\u001b[49m\n\u001b[0;32m    181\u001b[0m \u001b[43m        \u001b[49m\u001b[43mX_copy\u001b[49m\u001b[43m,\u001b[49m\n\u001b[0;32m    182\u001b[0m \u001b[43m        \u001b[49m\u001b[43my\u001b[49m\u001b[43m,\u001b[49m\n\u001b[0;32m    183\u001b[0m \u001b[43m        \u001b[49m\u001b[38;5;28;43mself\u001b[39;49m\u001b[38;5;241;43m.\u001b[39;49m\u001b[43mbeta\u001b[49m\u001b[43m,\u001b[49m\n\u001b[0;32m    184\u001b[0m \u001b[43m        \u001b[49m\u001b[43mLogisticRegressor\u001b[49m\u001b[38;5;241;43m.\u001b[39;49m\u001b[43mloss_prime\u001b[49m\u001b[43m,\u001b[49m\n\u001b[0;32m    185\u001b[0m \u001b[43m        \u001b[49m\u001b[43mlearning_rate\u001b[49m\u001b[38;5;241;43m=\u001b[39;49m\u001b[43mlearning_rate\u001b[49m\u001b[43m,\u001b[49m\n\u001b[0;32m    186\u001b[0m \u001b[43m        \u001b[49m\u001b[43mmax_num_epoch\u001b[49m\u001b[38;5;241;43m=\u001b[39;49m\u001b[43mmax_num_epoch\u001b[49m\u001b[43m,\u001b[49m\n\u001b[0;32m    187\u001b[0m \u001b[43m        \u001b[49m\u001b[43mverbose\u001b[49m\u001b[38;5;241;43m=\u001b[39;49m\u001b[43mverbose\u001b[49m\u001b[43m,\u001b[49m\n\u001b[0;32m    188\u001b[0m \u001b[43m    \u001b[49m\u001b[43m)\u001b[49m\n\u001b[0;32m    189\u001b[0m \u001b[38;5;28;01melif\u001b[39;00m \u001b[38;5;28mself\u001b[39m\u001b[38;5;241m.\u001b[39mdescent_algorithm \u001b[38;5;241m==\u001b[39m \u001b[38;5;124m\"\u001b[39m\u001b[38;5;124mnewton\u001b[39m\u001b[38;5;124m\"\u001b[39m:\n\u001b[0;32m    190\u001b[0m     \u001b[38;5;28mself\u001b[39m\u001b[38;5;241m.\u001b[39mbeta \u001b[38;5;241m=\u001b[39m newton(\n\u001b[0;32m    191\u001b[0m         X_copy,\n\u001b[0;32m    192\u001b[0m         y,\n\u001b[1;32m   (...)\u001b[0m\n\u001b[0;32m    197\u001b[0m         verbose\u001b[38;5;241m=\u001b[39mverbose,\n\u001b[0;32m    198\u001b[0m     )\n",
      "File \u001b[1;32md:\\studia\\sem6\\advml\\pro\\logistic_regression\\logistic_regression\\optimizers.py:204\u001b[0m, in \u001b[0;36msgd\u001b[1;34m(X, y, initial_solution, calculate_gradient, learning_rate, max_num_epoch, tolerance, verbose)\u001b[0m\n\u001b[0;32m    202\u001b[0m X, y \u001b[38;5;241m=\u001b[39m X[shuffled_idx], y[shuffled_idx]\n\u001b[0;32m    203\u001b[0m \u001b[38;5;28;01mfor\u001b[39;00m X_selected, y_selected \u001b[38;5;129;01min\u001b[39;00m \u001b[38;5;28mzip\u001b[39m(X, y):\n\u001b[1;32m--> 204\u001b[0m     gradient \u001b[38;5;241m=\u001b[39m \u001b[43mcalculate_gradient\u001b[49m\u001b[43m(\u001b[49m\u001b[43mX_selected\u001b[49m\u001b[43m,\u001b[49m\u001b[43m \u001b[49m\u001b[43my_selected\u001b[49m\u001b[43m,\u001b[49m\u001b[43m \u001b[49m\u001b[43mcurrent_solution\u001b[49m\u001b[43m)\u001b[49m\n\u001b[0;32m    205\u001b[0m     current_solution \u001b[38;5;241m=\u001b[39m current_solution \u001b[38;5;241m-\u001b[39m learning_rate \u001b[38;5;241m*\u001b[39m gradient\n\u001b[0;32m    206\u001b[0m \u001b[38;5;28;01mif\u001b[39;00m verbose:\n",
      "File \u001b[1;32md:\\studia\\sem6\\advml\\pro\\logistic_regression\\logistic_regression\\regressor.py:106\u001b[0m, in \u001b[0;36mLogisticRegressor.loss_prime\u001b[1;34m(X, y, beta)\u001b[0m\n\u001b[0;32m     97\u001b[0m \u001b[38;5;129m@staticmethod\u001b[39m\n\u001b[0;32m     98\u001b[0m \u001b[38;5;28;01mdef\u001b[39;00m \u001b[38;5;21mloss_prime\u001b[39m(\n\u001b[0;32m     99\u001b[0m     X: Union[np\u001b[38;5;241m.\u001b[39mndarray, pd\u001b[38;5;241m.\u001b[39mDataFrame],\n\u001b[0;32m    100\u001b[0m     y: Union[np\u001b[38;5;241m.\u001b[39mndarray, pd\u001b[38;5;241m.\u001b[39mDataFrame],\n\u001b[0;32m    101\u001b[0m     beta: np\u001b[38;5;241m.\u001b[39mndarray,\n\u001b[0;32m    102\u001b[0m ):\n\u001b[0;32m    103\u001b[0m \u001b[38;5;250m    \u001b[39m\u001b[38;5;124;03m\"\"\"\u001b[39;00m\n\u001b[0;32m    104\u001b[0m \u001b[38;5;124;03m    calculates the derivative of the loss function with respect to the beta\u001b[39;00m\n\u001b[0;32m    105\u001b[0m \u001b[38;5;124;03m    \"\"\"\u001b[39;00m\n\u001b[1;32m--> 106\u001b[0m     \u001b[38;5;28;01massert\u001b[39;00m \u001b[43mX\u001b[49m\u001b[38;5;241;43m.\u001b[39;49m\u001b[43mshape\u001b[49m\u001b[43m[\u001b[49m\u001b[38;5;241;43m1\u001b[39;49m\u001b[43m]\u001b[49m \u001b[38;5;241m==\u001b[39m \u001b[38;5;28mlen\u001b[39m(\n\u001b[0;32m    107\u001b[0m         beta\n\u001b[0;32m    108\u001b[0m     ), \u001b[38;5;124m\"\u001b[39m\u001b[38;5;124mNumber of features in X must match the length of beta, maybe try adding an intercept or interaction terms\u001b[39m\u001b[38;5;124m\"\u001b[39m\n\u001b[0;32m    110\u001b[0m     \u001b[38;5;66;03m# as we know from MSO\u001b[39;00m\n\u001b[0;32m    111\u001b[0m     p \u001b[38;5;241m=\u001b[39m sigmoid(X \u001b[38;5;241m@\u001b[39m beta)\n",
      "\u001b[1;31mIndexError\u001b[0m: tuple index out of range"
     ]
    }
   ],
   "source": [
    "lr = logistic_regression.LogisticRegressor(descent_algorithm=\"sgd\")\n",
    "\n",
    "lr.fit(X_train, y_train, max_num_epoch=100)\n",
    "\n",
    "y_pred = lr.predict(X_test)\n",
    "lr.confusion_matrix(X_test, y_test)"
   ]
  },
  {
   "cell_type": "code",
   "execution_count": 7,
   "metadata": {},
   "outputs": [
    {
     "data": {
      "text/plain": [
       "Index(['time', 'trt', 'age', 'wtkg', 'hemo', 'homo', 'drugs', 'karnof',\n",
       "       'oprior', 'z30', 'preanti', 'race', 'gender', 'symptom', 'treat',\n",
       "       'offtrt', 'cd40', 'cd420', 'cd80', 'cd820'],\n",
       "      dtype='object')"
      ]
     },
     "execution_count": 7,
     "metadata": {},
     "output_type": "execute_result"
    }
   ],
   "source": [
    "X_test.columns"
   ]
  },
  {
   "cell_type": "code",
   "execution_count": 8,
   "metadata": {},
   "outputs": [],
   "source": [
    "sklearn_lr = LogisticRegression(max_iter=10000, tol=1e-3, solver='lbfgs')\n",
    "sklearn_lr.fit(X, y)\n",
    "sklearn_lr.score(X, y)\n",
    "y_pred = sklearn_lr.predict(X)"
   ]
  },
  {
   "cell_type": "code",
   "execution_count": 9,
   "metadata": {},
   "outputs": [
    {
     "name": "stdout",
     "output_type": "stream",
     "text": [
      "Our implementation\n",
      "[[ 182   73]\n",
      " [ 339 1545]]\n",
      "Sklearn implementation\n",
      "[[1531   87]\n",
      " [ 190  331]]\n"
     ]
    }
   ],
   "source": [
    "print(f\"Our implementation\\n{lr.confusion_matrix(X, y)}\")\n",
    "print(f\"Sklearn implementation\\n{confusion_matrix(y, y_pred)}\")"
   ]
  },
  {
   "cell_type": "code",
   "execution_count": 12,
   "metadata": {},
   "outputs": [
    {
     "name": "stdout",
     "output_type": "stream",
     "text": [
      "Accuracy of our implementation: 0.8130841121495327\n",
      "Accuracy of sklearn implementation: 0.8808411214953271\n"
     ]
    }
   ],
   "source": [
    "print(f\"Accuracy of our implementation: {lr.accuracy(X_test, y_test)}\")\n",
    "print(f\"Accuracy of sklearn implementation: {sklearn_lr.score(X_test, y_test)}\")"
   ]
  },
  {
   "cell_type": "code",
   "execution_count": null,
   "metadata": {},
   "outputs": [],
   "source": []
  }
 ],
 "metadata": {
  "kernelspec": {
   "display_name": "asseco",
   "language": "python",
   "name": "python3"
  },
  "language_info": {
   "codemirror_mode": {
    "name": "ipython",
    "version": 3
   },
   "file_extension": ".py",
   "mimetype": "text/x-python",
   "name": "python",
   "nbconvert_exporter": "python",
   "pygments_lexer": "ipython3",
   "version": "3.10.13"
  }
 },
 "nbformat": 4,
 "nbformat_minor": 2
}
