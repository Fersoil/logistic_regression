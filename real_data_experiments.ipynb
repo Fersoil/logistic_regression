{
 "cells": [
  {
   "cell_type": "code",
   "execution_count": 25,
   "metadata": {},
   "outputs": [],
   "source": [
    "import numpy as np\n",
    "import pandas as pd\n",
    "\n",
    "import logistic_regression\n",
    "import matplotlib.pyplot as plt\n",
    "from sklearn.model_selection import train_test_split\n",
    "from sklearn.metrics import confusion_matrix\n",
    "from sklearn.linear_model import LogisticRegression\n",
    "\n",
    "\n",
    "np.random.seed(0)"
   ]
  },
  {
   "cell_type": "markdown",
   "metadata": {},
   "source": [
    "# Aids"
   ]
  },
  {
   "cell_type": "code",
   "execution_count": 26,
   "metadata": {},
   "outputs": [],
   "source": [
    "aids = pd.read_csv('data/aids.csv')\n",
    "\n",
    "y = aids['target']\n",
    "X = aids.drop('target', axis=1)\n",
    "X_train, X_test, y_train, y_test = train_test_split(X, y, test_size=0.2, random_state=43)"
   ]
  },
  {
   "cell_type": "code",
   "execution_count": 27,
   "metadata": {},
   "outputs": [
    {
     "data": {
      "text/plain": [
       "(1711, 20)"
      ]
     },
     "execution_count": 27,
     "metadata": {},
     "output_type": "execute_result"
    }
   ],
   "source": [
    "X_train.shape"
   ]
  },
  {
   "cell_type": "code",
   "execution_count": 28,
   "metadata": {},
   "outputs": [
    {
     "ename": "KeyError",
     "evalue": "'[152, 467, 342, 1258, 654, 762, 513, 1516, 191, 1039, 576, 223, 1070, 1343, 1280, 1690, 641, 1142, 1380, 955, 259, 796, 1210, 18, 1309, 911, 1659, 1086, 549, 1436, 1507, 529, 1001, 1695, 1505, 519, 794, 1214, 1312, 1554, 82, 378, 122, 1045, 689, 1049, 1480, 720, 1477, 393, 381, 1635, 1564, 788, 1069, 776, 1195, 511, 581, 1440, 298, 530, 1228, 678, 910, 1490, 1643, 1199, 270, 1504, 506, 1389, 1495, 638, 970, 1613, 202, 1682, 1051, 651, 1168, 1164, 1511, 1003, 289, 801, 1129, 1533, 1360, 1234, 427, 1528, 442, 178, 620, 1525, 1158, 1453, 48, 1355, 1126, 1189, 302, 1561, 986, 1706, 487, 333, 862, 826, 1492, 277, 29, 1484, 1692, 768, 580, 431, 1202, 1061, 969, 745, 731, 8, 1638, 813, 195, 991, 243, 1538, 1674, 1648, 1679, 1639, 713, 781, 1558, 793, 1446, 269, 283, 363, 500, 1366, 725, 1413, 472, 131, 15, 439, 1658, 1535, 703, 1425, 185, 371, 717, 1515, 1529, 1683, 1362, 601, 1610, 267, 1532, 676, 1363, 850, 239, 453, 1585, 729, 805, 384, 1097, 1420, 1108, 1587, 552, 214, 1626, 874, 1448, 385, 1273, 1368, 68, 846, 523, 495, 1224, 1455, 1305, 79, 953, 144, 1388, 1580, 1223, 1379, 773, 1310, 150, 1161, 1128, 352, 959, 143, 1612, 588, 559, 1546, 968, 614, 151, 915, 441, 822, 284, 1627, 1336, 1499, 304, 1095, 1072, 636, 1581, 447, 1245, 1149, 451, 950, 1685, 392, 1377, 1665, 604, 627, 856, 709, 1404, 624, 125, 1011, 1457, 741, 1439, 939, 1654, 640, 815, 460, 585, 1518, 404, 690, 282, 635, 72, 1422, 1597, 134, 698, 1555, 226, 1517, 454, 112, 851, 1426, 502, 305, 612, 1513, 1707, 903, 1431, 163, 1551, 1378, 786, 941, 348, 1160, 890, 1300, 281, 715, 106, 433, 967, 710, 1365, 1053, 136, 1470, 894, 767, 1068, 865, 341, 1418, 1608, 1445, 727, 67, 1153, 166, 763, 1252, 696, 323, 286, 1198, 1152, 705, 782, 734, 377, 23, 1407, 370, 383, 1578, 1472, 560, 719, 954, 1167, 972, 639, 1071, 964, 1589, 611, 91, 57, 1345, 1466, 388, 1574, 802, 1207, 882] not in index'",
     "output_type": "error",
     "traceback": [
      "\u001b[1;31m---------------------------------------------------------------------------\u001b[0m",
      "\u001b[1;31mKeyError\u001b[0m                                  Traceback (most recent call last)",
      "Cell \u001b[1;32mIn[28], line 3\u001b[0m\n\u001b[0;32m      1\u001b[0m lr \u001b[38;5;241m=\u001b[39m logistic_regression\u001b[38;5;241m.\u001b[39mLogisticRegressor(descent_algorithm\u001b[38;5;241m=\u001b[39m\u001b[38;5;124m\"\u001b[39m\u001b[38;5;124msgd\u001b[39m\u001b[38;5;124m\"\u001b[39m)\n\u001b[1;32m----> 3\u001b[0m \u001b[43mlr\u001b[49m\u001b[38;5;241;43m.\u001b[39;49m\u001b[43mfit\u001b[49m\u001b[43m(\u001b[49m\u001b[43mX_train\u001b[49m\u001b[43m,\u001b[49m\u001b[43m \u001b[49m\u001b[43my_train\u001b[49m\u001b[43m,\u001b[49m\u001b[43m \u001b[49m\u001b[43mmax_num_epoch\u001b[49m\u001b[38;5;241;43m=\u001b[39;49m\u001b[38;5;241;43m100\u001b[39;49m\u001b[43m)\u001b[49m\n\u001b[0;32m      5\u001b[0m y_pred \u001b[38;5;241m=\u001b[39m lr\u001b[38;5;241m.\u001b[39mpredict(X_test)\n\u001b[0;32m      6\u001b[0m lr\u001b[38;5;241m.\u001b[39mconfusion_matrix(X_test, y_test)\n",
      "File \u001b[1;32md:\\studia\\sem6\\advml\\pro\\logistic_regression\\logistic_regression\\regressor.py:148\u001b[0m, in \u001b[0;36mLogisticRegressor.fit\u001b[1;34m(self, X, y, learning_rate, max_num_epoch, batch_size, verbose)\u001b[0m\n\u001b[0;32m    138\u001b[0m     \u001b[38;5;28mself\u001b[39m\u001b[38;5;241m.\u001b[39mbeta \u001b[38;5;241m=\u001b[39m adam(\n\u001b[0;32m    139\u001b[0m         X_copy,\n\u001b[0;32m    140\u001b[0m         y,\n\u001b[1;32m   (...)\u001b[0m\n\u001b[0;32m    145\u001b[0m         verbose\u001b[38;5;241m=\u001b[39mverbose,\n\u001b[0;32m    146\u001b[0m     )\n\u001b[0;32m    147\u001b[0m \u001b[38;5;28;01melif\u001b[39;00m \u001b[38;5;28mself\u001b[39m\u001b[38;5;241m.\u001b[39mdescent_algorithm \u001b[38;5;241m==\u001b[39m \u001b[38;5;124m\"\u001b[39m\u001b[38;5;124msgd\u001b[39m\u001b[38;5;124m\"\u001b[39m:\n\u001b[1;32m--> 148\u001b[0m     \u001b[38;5;28mself\u001b[39m\u001b[38;5;241m.\u001b[39mbeta \u001b[38;5;241m=\u001b[39m \u001b[43msgd\u001b[49m\u001b[43m(\u001b[49m\n\u001b[0;32m    149\u001b[0m \u001b[43m        \u001b[49m\u001b[43mX_copy\u001b[49m\u001b[43m,\u001b[49m\n\u001b[0;32m    150\u001b[0m \u001b[43m        \u001b[49m\u001b[43my\u001b[49m\u001b[43m,\u001b[49m\n\u001b[0;32m    151\u001b[0m \u001b[43m        \u001b[49m\u001b[38;5;28;43mself\u001b[39;49m\u001b[38;5;241;43m.\u001b[39;49m\u001b[43mbeta\u001b[49m\u001b[43m,\u001b[49m\n\u001b[0;32m    152\u001b[0m \u001b[43m        \u001b[49m\u001b[43mLogisticRegressor\u001b[49m\u001b[38;5;241;43m.\u001b[39;49m\u001b[43mloss_prime\u001b[49m\u001b[43m,\u001b[49m\n\u001b[0;32m    153\u001b[0m \u001b[43m        \u001b[49m\u001b[43mlearning_rate\u001b[49m\u001b[38;5;241;43m=\u001b[39;49m\u001b[43mlearning_rate\u001b[49m\u001b[43m,\u001b[49m\n\u001b[0;32m    154\u001b[0m \u001b[43m        \u001b[49m\u001b[43mmax_num_epoch\u001b[49m\u001b[38;5;241;43m=\u001b[39;49m\u001b[43mmax_num_epoch\u001b[49m\u001b[43m,\u001b[49m\n\u001b[0;32m    155\u001b[0m \u001b[43m        \u001b[49m\u001b[43mverbose\u001b[49m\u001b[38;5;241;43m=\u001b[39;49m\u001b[43mverbose\u001b[49m\u001b[43m,\u001b[49m\n\u001b[0;32m    156\u001b[0m \u001b[43m    \u001b[49m\u001b[43m)\u001b[49m\n\u001b[0;32m    157\u001b[0m \u001b[38;5;28;01melif\u001b[39;00m \u001b[38;5;28mself\u001b[39m\u001b[38;5;241m.\u001b[39mdescent_algorithm \u001b[38;5;241m==\u001b[39m \u001b[38;5;124m\"\u001b[39m\u001b[38;5;124mnewton\u001b[39m\u001b[38;5;124m\"\u001b[39m:\n\u001b[0;32m    158\u001b[0m     \u001b[38;5;28mself\u001b[39m\u001b[38;5;241m.\u001b[39mbeta \u001b[38;5;241m=\u001b[39m newton(\n\u001b[0;32m    159\u001b[0m         X_copy,\n\u001b[0;32m    160\u001b[0m         y,\n\u001b[1;32m   (...)\u001b[0m\n\u001b[0;32m    165\u001b[0m         verbose\u001b[38;5;241m=\u001b[39mverbose,\n\u001b[0;32m    166\u001b[0m     )\n",
      "File \u001b[1;32md:\\studia\\sem6\\advml\\pro\\logistic_regression\\logistic_regression\\optimizers.py:177\u001b[0m, in \u001b[0;36msgd\u001b[1;34m(X, y, initial_solution, calculate_gradient, learning_rate, max_num_epoch, verbose)\u001b[0m\n\u001b[0;32m    175\u001b[0m N, _ \u001b[38;5;241m=\u001b[39m X\u001b[38;5;241m.\u001b[39mshape\n\u001b[0;32m    176\u001b[0m shuffled_idx \u001b[38;5;241m=\u001b[39m np\u001b[38;5;241m.\u001b[39mrandom\u001b[38;5;241m.\u001b[39mpermutation(N)\n\u001b[1;32m--> 177\u001b[0m X, y \u001b[38;5;241m=\u001b[39m X[shuffled_idx], \u001b[43my\u001b[49m\u001b[43m[\u001b[49m\u001b[43mshuffled_idx\u001b[49m\u001b[43m]\u001b[49m\n\u001b[0;32m    178\u001b[0m \u001b[38;5;28;01mfor\u001b[39;00m X_selected, y_selected \u001b[38;5;129;01min\u001b[39;00m \u001b[38;5;28mzip\u001b[39m(X, y):\n\u001b[0;32m    179\u001b[0m     gradient \u001b[38;5;241m=\u001b[39m calculate_gradient(X_selected, y_selected, current_solution)\n",
      "File \u001b[1;32mc:\\Users\\tymot\\anaconda3\\envs\\prod\\lib\\site-packages\\pandas\\core\\series.py:1072\u001b[0m, in \u001b[0;36mSeries.__getitem__\u001b[1;34m(self, key)\u001b[0m\n\u001b[0;32m   1069\u001b[0m     key \u001b[38;5;241m=\u001b[39m np\u001b[38;5;241m.\u001b[39masarray(key, dtype\u001b[38;5;241m=\u001b[39m\u001b[38;5;28mbool\u001b[39m)\n\u001b[0;32m   1070\u001b[0m     \u001b[38;5;28;01mreturn\u001b[39;00m \u001b[38;5;28mself\u001b[39m\u001b[38;5;241m.\u001b[39m_get_rows_with_mask(key)\n\u001b[1;32m-> 1072\u001b[0m \u001b[38;5;28;01mreturn\u001b[39;00m \u001b[38;5;28;43mself\u001b[39;49m\u001b[38;5;241;43m.\u001b[39;49m\u001b[43m_get_with\u001b[49m\u001b[43m(\u001b[49m\u001b[43mkey\u001b[49m\u001b[43m)\u001b[49m\n",
      "File \u001b[1;32mc:\\Users\\tymot\\anaconda3\\envs\\prod\\lib\\site-packages\\pandas\\core\\series.py:1099\u001b[0m, in \u001b[0;36mSeries._get_with\u001b[1;34m(self, key)\u001b[0m\n\u001b[0;32m   1095\u001b[0m \u001b[38;5;28;01mif\u001b[39;00m key_type \u001b[38;5;241m==\u001b[39m \u001b[38;5;124m\"\u001b[39m\u001b[38;5;124minteger\u001b[39m\u001b[38;5;124m\"\u001b[39m:\n\u001b[0;32m   1096\u001b[0m     \u001b[38;5;66;03m# We need to decide whether to treat this as a positional indexer\u001b[39;00m\n\u001b[0;32m   1097\u001b[0m     \u001b[38;5;66;03m#  (i.e. self.iloc) or label-based (i.e. self.loc)\u001b[39;00m\n\u001b[0;32m   1098\u001b[0m     \u001b[38;5;28;01mif\u001b[39;00m \u001b[38;5;129;01mnot\u001b[39;00m \u001b[38;5;28mself\u001b[39m\u001b[38;5;241m.\u001b[39mindex\u001b[38;5;241m.\u001b[39m_should_fallback_to_positional:\n\u001b[1;32m-> 1099\u001b[0m         \u001b[38;5;28;01mreturn\u001b[39;00m \u001b[38;5;28;43mself\u001b[39;49m\u001b[38;5;241;43m.\u001b[39;49m\u001b[43mloc\u001b[49m\u001b[43m[\u001b[49m\u001b[43mkey\u001b[49m\u001b[43m]\u001b[49m\n\u001b[0;32m   1100\u001b[0m     \u001b[38;5;28;01melse\u001b[39;00m:\n\u001b[0;32m   1101\u001b[0m         warnings\u001b[38;5;241m.\u001b[39mwarn(\n\u001b[0;32m   1102\u001b[0m             \u001b[38;5;66;03m# GH#50617\u001b[39;00m\n\u001b[0;32m   1103\u001b[0m             \u001b[38;5;124m\"\u001b[39m\u001b[38;5;124mSeries.__getitem__ treating keys as positions is deprecated. \u001b[39m\u001b[38;5;124m\"\u001b[39m\n\u001b[1;32m   (...)\u001b[0m\n\u001b[0;32m   1108\u001b[0m             stacklevel\u001b[38;5;241m=\u001b[39mfind_stack_level(),\n\u001b[0;32m   1109\u001b[0m         )\n",
      "File \u001b[1;32mc:\\Users\\tymot\\anaconda3\\envs\\prod\\lib\\site-packages\\pandas\\core\\indexing.py:1153\u001b[0m, in \u001b[0;36m_LocationIndexer.__getitem__\u001b[1;34m(self, key)\u001b[0m\n\u001b[0;32m   1150\u001b[0m axis \u001b[38;5;241m=\u001b[39m \u001b[38;5;28mself\u001b[39m\u001b[38;5;241m.\u001b[39maxis \u001b[38;5;129;01mor\u001b[39;00m \u001b[38;5;241m0\u001b[39m\n\u001b[0;32m   1152\u001b[0m maybe_callable \u001b[38;5;241m=\u001b[39m com\u001b[38;5;241m.\u001b[39mapply_if_callable(key, \u001b[38;5;28mself\u001b[39m\u001b[38;5;241m.\u001b[39mobj)\n\u001b[1;32m-> 1153\u001b[0m \u001b[38;5;28;01mreturn\u001b[39;00m \u001b[38;5;28;43mself\u001b[39;49m\u001b[38;5;241;43m.\u001b[39;49m\u001b[43m_getitem_axis\u001b[49m\u001b[43m(\u001b[49m\u001b[43mmaybe_callable\u001b[49m\u001b[43m,\u001b[49m\u001b[43m \u001b[49m\u001b[43maxis\u001b[49m\u001b[38;5;241;43m=\u001b[39;49m\u001b[43maxis\u001b[49m\u001b[43m)\u001b[49m\n",
      "File \u001b[1;32mc:\\Users\\tymot\\anaconda3\\envs\\prod\\lib\\site-packages\\pandas\\core\\indexing.py:1382\u001b[0m, in \u001b[0;36m_LocIndexer._getitem_axis\u001b[1;34m(self, key, axis)\u001b[0m\n\u001b[0;32m   1379\u001b[0m     \u001b[38;5;28;01mif\u001b[39;00m \u001b[38;5;28mhasattr\u001b[39m(key, \u001b[38;5;124m\"\u001b[39m\u001b[38;5;124mndim\u001b[39m\u001b[38;5;124m\"\u001b[39m) \u001b[38;5;129;01mand\u001b[39;00m key\u001b[38;5;241m.\u001b[39mndim \u001b[38;5;241m>\u001b[39m \u001b[38;5;241m1\u001b[39m:\n\u001b[0;32m   1380\u001b[0m         \u001b[38;5;28;01mraise\u001b[39;00m \u001b[38;5;167;01mValueError\u001b[39;00m(\u001b[38;5;124m\"\u001b[39m\u001b[38;5;124mCannot index with multidimensional key\u001b[39m\u001b[38;5;124m\"\u001b[39m)\n\u001b[1;32m-> 1382\u001b[0m     \u001b[38;5;28;01mreturn\u001b[39;00m \u001b[38;5;28;43mself\u001b[39;49m\u001b[38;5;241;43m.\u001b[39;49m\u001b[43m_getitem_iterable\u001b[49m\u001b[43m(\u001b[49m\u001b[43mkey\u001b[49m\u001b[43m,\u001b[49m\u001b[43m \u001b[49m\u001b[43maxis\u001b[49m\u001b[38;5;241;43m=\u001b[39;49m\u001b[43maxis\u001b[49m\u001b[43m)\u001b[49m\n\u001b[0;32m   1384\u001b[0m \u001b[38;5;66;03m# nested tuple slicing\u001b[39;00m\n\u001b[0;32m   1385\u001b[0m \u001b[38;5;28;01mif\u001b[39;00m is_nested_tuple(key, labels):\n",
      "File \u001b[1;32mc:\\Users\\tymot\\anaconda3\\envs\\prod\\lib\\site-packages\\pandas\\core\\indexing.py:1322\u001b[0m, in \u001b[0;36m_LocIndexer._getitem_iterable\u001b[1;34m(self, key, axis)\u001b[0m\n\u001b[0;32m   1319\u001b[0m \u001b[38;5;28mself\u001b[39m\u001b[38;5;241m.\u001b[39m_validate_key(key, axis)\n\u001b[0;32m   1321\u001b[0m \u001b[38;5;66;03m# A collection of keys\u001b[39;00m\n\u001b[1;32m-> 1322\u001b[0m keyarr, indexer \u001b[38;5;241m=\u001b[39m \u001b[38;5;28;43mself\u001b[39;49m\u001b[38;5;241;43m.\u001b[39;49m\u001b[43m_get_listlike_indexer\u001b[49m\u001b[43m(\u001b[49m\u001b[43mkey\u001b[49m\u001b[43m,\u001b[49m\u001b[43m \u001b[49m\u001b[43maxis\u001b[49m\u001b[43m)\u001b[49m\n\u001b[0;32m   1323\u001b[0m \u001b[38;5;28;01mreturn\u001b[39;00m \u001b[38;5;28mself\u001b[39m\u001b[38;5;241m.\u001b[39mobj\u001b[38;5;241m.\u001b[39m_reindex_with_indexers(\n\u001b[0;32m   1324\u001b[0m     {axis: [keyarr, indexer]}, copy\u001b[38;5;241m=\u001b[39m\u001b[38;5;28;01mTrue\u001b[39;00m, allow_dups\u001b[38;5;241m=\u001b[39m\u001b[38;5;28;01mTrue\u001b[39;00m\n\u001b[0;32m   1325\u001b[0m )\n",
      "File \u001b[1;32mc:\\Users\\tymot\\anaconda3\\envs\\prod\\lib\\site-packages\\pandas\\core\\indexing.py:1520\u001b[0m, in \u001b[0;36m_LocIndexer._get_listlike_indexer\u001b[1;34m(self, key, axis)\u001b[0m\n\u001b[0;32m   1517\u001b[0m ax \u001b[38;5;241m=\u001b[39m \u001b[38;5;28mself\u001b[39m\u001b[38;5;241m.\u001b[39mobj\u001b[38;5;241m.\u001b[39m_get_axis(axis)\n\u001b[0;32m   1518\u001b[0m axis_name \u001b[38;5;241m=\u001b[39m \u001b[38;5;28mself\u001b[39m\u001b[38;5;241m.\u001b[39mobj\u001b[38;5;241m.\u001b[39m_get_axis_name(axis)\n\u001b[1;32m-> 1520\u001b[0m keyarr, indexer \u001b[38;5;241m=\u001b[39m \u001b[43max\u001b[49m\u001b[38;5;241;43m.\u001b[39;49m\u001b[43m_get_indexer_strict\u001b[49m\u001b[43m(\u001b[49m\u001b[43mkey\u001b[49m\u001b[43m,\u001b[49m\u001b[43m \u001b[49m\u001b[43maxis_name\u001b[49m\u001b[43m)\u001b[49m\n\u001b[0;32m   1522\u001b[0m \u001b[38;5;28;01mreturn\u001b[39;00m keyarr, indexer\n",
      "File \u001b[1;32mc:\\Users\\tymot\\anaconda3\\envs\\prod\\lib\\site-packages\\pandas\\core\\indexes\\base.py:6115\u001b[0m, in \u001b[0;36mIndex._get_indexer_strict\u001b[1;34m(self, key, axis_name)\u001b[0m\n\u001b[0;32m   6112\u001b[0m \u001b[38;5;28;01melse\u001b[39;00m:\n\u001b[0;32m   6113\u001b[0m     keyarr, indexer, new_indexer \u001b[38;5;241m=\u001b[39m \u001b[38;5;28mself\u001b[39m\u001b[38;5;241m.\u001b[39m_reindex_non_unique(keyarr)\n\u001b[1;32m-> 6115\u001b[0m \u001b[38;5;28;43mself\u001b[39;49m\u001b[38;5;241;43m.\u001b[39;49m\u001b[43m_raise_if_missing\u001b[49m\u001b[43m(\u001b[49m\u001b[43mkeyarr\u001b[49m\u001b[43m,\u001b[49m\u001b[43m \u001b[49m\u001b[43mindexer\u001b[49m\u001b[43m,\u001b[49m\u001b[43m \u001b[49m\u001b[43maxis_name\u001b[49m\u001b[43m)\u001b[49m\n\u001b[0;32m   6117\u001b[0m keyarr \u001b[38;5;241m=\u001b[39m \u001b[38;5;28mself\u001b[39m\u001b[38;5;241m.\u001b[39mtake(indexer)\n\u001b[0;32m   6118\u001b[0m \u001b[38;5;28;01mif\u001b[39;00m \u001b[38;5;28misinstance\u001b[39m(key, Index):\n\u001b[0;32m   6119\u001b[0m     \u001b[38;5;66;03m# GH 42790 - Preserve name from an Index\u001b[39;00m\n",
      "File \u001b[1;32mc:\\Users\\tymot\\anaconda3\\envs\\prod\\lib\\site-packages\\pandas\\core\\indexes\\base.py:6179\u001b[0m, in \u001b[0;36mIndex._raise_if_missing\u001b[1;34m(self, key, indexer, axis_name)\u001b[0m\n\u001b[0;32m   6176\u001b[0m     \u001b[38;5;28;01mraise\u001b[39;00m \u001b[38;5;167;01mKeyError\u001b[39;00m(\u001b[38;5;124mf\u001b[39m\u001b[38;5;124m\"\u001b[39m\u001b[38;5;124mNone of [\u001b[39m\u001b[38;5;132;01m{\u001b[39;00mkey\u001b[38;5;132;01m}\u001b[39;00m\u001b[38;5;124m] are in the [\u001b[39m\u001b[38;5;132;01m{\u001b[39;00maxis_name\u001b[38;5;132;01m}\u001b[39;00m\u001b[38;5;124m]\u001b[39m\u001b[38;5;124m\"\u001b[39m)\n\u001b[0;32m   6178\u001b[0m not_found \u001b[38;5;241m=\u001b[39m \u001b[38;5;28mlist\u001b[39m(ensure_index(key)[missing_mask\u001b[38;5;241m.\u001b[39mnonzero()[\u001b[38;5;241m0\u001b[39m]]\u001b[38;5;241m.\u001b[39munique())\n\u001b[1;32m-> 6179\u001b[0m \u001b[38;5;28;01mraise\u001b[39;00m \u001b[38;5;167;01mKeyError\u001b[39;00m(\u001b[38;5;124mf\u001b[39m\u001b[38;5;124m\"\u001b[39m\u001b[38;5;132;01m{\u001b[39;00mnot_found\u001b[38;5;132;01m}\u001b[39;00m\u001b[38;5;124m not in index\u001b[39m\u001b[38;5;124m\"\u001b[39m)\n",
      "\u001b[1;31mKeyError\u001b[0m: '[152, 467, 342, 1258, 654, 762, 513, 1516, 191, 1039, 576, 223, 1070, 1343, 1280, 1690, 641, 1142, 1380, 955, 259, 796, 1210, 18, 1309, 911, 1659, 1086, 549, 1436, 1507, 529, 1001, 1695, 1505, 519, 794, 1214, 1312, 1554, 82, 378, 122, 1045, 689, 1049, 1480, 720, 1477, 393, 381, 1635, 1564, 788, 1069, 776, 1195, 511, 581, 1440, 298, 530, 1228, 678, 910, 1490, 1643, 1199, 270, 1504, 506, 1389, 1495, 638, 970, 1613, 202, 1682, 1051, 651, 1168, 1164, 1511, 1003, 289, 801, 1129, 1533, 1360, 1234, 427, 1528, 442, 178, 620, 1525, 1158, 1453, 48, 1355, 1126, 1189, 302, 1561, 986, 1706, 487, 333, 862, 826, 1492, 277, 29, 1484, 1692, 768, 580, 431, 1202, 1061, 969, 745, 731, 8, 1638, 813, 195, 991, 243, 1538, 1674, 1648, 1679, 1639, 713, 781, 1558, 793, 1446, 269, 283, 363, 500, 1366, 725, 1413, 472, 131, 15, 439, 1658, 1535, 703, 1425, 185, 371, 717, 1515, 1529, 1683, 1362, 601, 1610, 267, 1532, 676, 1363, 850, 239, 453, 1585, 729, 805, 384, 1097, 1420, 1108, 1587, 552, 214, 1626, 874, 1448, 385, 1273, 1368, 68, 846, 523, 495, 1224, 1455, 1305, 79, 953, 144, 1388, 1580, 1223, 1379, 773, 1310, 150, 1161, 1128, 352, 959, 143, 1612, 588, 559, 1546, 968, 614, 151, 915, 441, 822, 284, 1627, 1336, 1499, 304, 1095, 1072, 636, 1581, 447, 1245, 1149, 451, 950, 1685, 392, 1377, 1665, 604, 627, 856, 709, 1404, 624, 125, 1011, 1457, 741, 1439, 939, 1654, 640, 815, 460, 585, 1518, 404, 690, 282, 635, 72, 1422, 1597, 134, 698, 1555, 226, 1517, 454, 112, 851, 1426, 502, 305, 612, 1513, 1707, 903, 1431, 163, 1551, 1378, 786, 941, 348, 1160, 890, 1300, 281, 715, 106, 433, 967, 710, 1365, 1053, 136, 1470, 894, 767, 1068, 865, 341, 1418, 1608, 1445, 727, 67, 1153, 166, 763, 1252, 696, 323, 286, 1198, 1152, 705, 782, 734, 377, 23, 1407, 370, 383, 1578, 1472, 560, 719, 954, 1167, 972, 639, 1071, 964, 1589, 611, 91, 57, 1345, 1466, 388, 1574, 802, 1207, 882] not in index'"
     ]
    }
   ],
   "source": [
    "lr = logistic_regression.LogisticRegressor(descent_algorithm=\"sgd\")\n",
    "\n",
    "lr.fit(X_train, y_train, max_num_epoch=100)\n",
    "\n",
    "y_pred = lr.predict(X_test)\n",
    "lr.confusion_matrix(X_test, y_test)"
   ]
  },
  {
   "cell_type": "code",
   "execution_count": 7,
   "metadata": {},
   "outputs": [
    {
     "data": {
      "text/plain": [
       "Index(['time', 'trt', 'age', 'wtkg', 'hemo', 'homo', 'drugs', 'karnof',\n",
       "       'oprior', 'z30', 'preanti', 'race', 'gender', 'symptom', 'treat',\n",
       "       'offtrt', 'cd40', 'cd420', 'cd80', 'cd820'],\n",
       "      dtype='object')"
      ]
     },
     "execution_count": 7,
     "metadata": {},
     "output_type": "execute_result"
    }
   ],
   "source": [
    "X_test.columns"
   ]
  },
  {
   "cell_type": "code",
   "execution_count": 8,
   "metadata": {},
   "outputs": [],
   "source": [
    "sklearn_lr = LogisticRegression(max_iter=10000, tol=1e-3, solver='lbfgs')\n",
    "sklearn_lr.fit(X, y)\n",
    "sklearn_lr.score(X, y)\n",
    "y_pred = sklearn_lr.predict(X)"
   ]
  },
  {
   "cell_type": "code",
   "execution_count": 9,
   "metadata": {},
   "outputs": [
    {
     "name": "stdout",
     "output_type": "stream",
     "text": [
      "Our implementation\n",
      "[[ 182   73]\n",
      " [ 339 1545]]\n",
      "Sklearn implementation\n",
      "[[1531   87]\n",
      " [ 190  331]]\n"
     ]
    }
   ],
   "source": [
    "print(f\"Our implementation\\n{lr.confusion_matrix(X, y)}\")\n",
    "print(f\"Sklearn implementation\\n{confusion_matrix(y, y_pred)}\")"
   ]
  },
  {
   "cell_type": "code",
   "execution_count": 12,
   "metadata": {},
   "outputs": [
    {
     "name": "stdout",
     "output_type": "stream",
     "text": [
      "Accuracy of our implementation: 0.8130841121495327\n",
      "Accuracy of sklearn implementation: 0.8808411214953271\n"
     ]
    }
   ],
   "source": [
    "print(f\"Accuracy of our implementation: {lr.accuracy(X_test, y_test)}\")\n",
    "print(f\"Accuracy of sklearn implementation: {sklearn_lr.score(X_test, y_test)}\")"
   ]
  },
  {
   "cell_type": "code",
   "execution_count": null,
   "metadata": {},
   "outputs": [],
   "source": []
  }
 ],
 "metadata": {
  "kernelspec": {
   "display_name": "asseco",
   "language": "python",
   "name": "python3"
  },
  "language_info": {
   "codemirror_mode": {
    "name": "ipython",
    "version": 3
   },
   "file_extension": ".py",
   "mimetype": "text/x-python",
   "name": "python",
   "nbconvert_exporter": "python",
   "pygments_lexer": "ipython3",
   "version": "3.10.13"
  }
 },
 "nbformat": 4,
 "nbformat_minor": 2
}
