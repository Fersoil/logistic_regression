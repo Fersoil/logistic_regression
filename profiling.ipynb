{
 "cells": [
  {
   "cell_type": "code",
   "execution_count": 1,
   "metadata": {},
   "outputs": [],
   "source": [
    "import numpy as np\n",
    "import pandas as pd\n",
    "import cProfile\n",
    "import pstats\n",
    "\n",
    "import logistic_regression\n",
    "import matplotlib.pyplot as plt\n",
    "from sklearn.model_selection import train_test_split\n",
    "\n",
    "\n",
    "np.random.seed(44)  # for comparison of results"
   ]
  },
  {
   "cell_type": "code",
   "execution_count": 6,
   "metadata": {},
   "outputs": [],
   "source": [
    "def profiling(\n",
    "    X, y, algorithms=[\"iwls\", \"sgd\", \"adam\"], test_size=0.2,\n",
    "):\n",
    "\n",
    "    for alg in algorithms:\n",
    "        # Split data and create regressor object\n",
    "        X_train, X_test, y_train, y_test = train_test_split(\n",
    "            X, y, test_size=test_size\n",
    "        )\n",
    "        model = logistic_regression.LogisticRegressor(\n",
    "            descent_algorithm=alg\n",
    "        )\n",
    "\n",
    "        with cProfile.Profile() as pr:\n",
    "            model.fit(X_train, y_train, max_num_epoch=500, tolerance=1e-3)\n",
    "        \n",
    "        stats = pstats.Stats(pr)\n",
    "        stats.sort_stats\n",
    "        stats.dump_stats(filename=f\"profiling/{alg}.prof\")\n",
    "    \n",
    " "
   ]
  },
  {
   "cell_type": "code",
   "execution_count": 4,
   "metadata": {},
   "outputs": [],
   "source": [
    "diabetes = pd.read_csv(\"data/diabetes.csv\")\n",
    "diabetes_y = diabetes[\"target\"]\n",
    "diabetes_X = diabetes.drop(columns=[\"target\"])\n",
    "mean = diabetes_X.mean()\n",
    "std = diabetes_X.std()\n",
    "diabetes_X = (diabetes_X - mean) / std\n"
   ]
  },
  {
   "cell_type": "code",
   "execution_count": 8,
   "metadata": {},
   "outputs": [],
   "source": [
    "profiling(diabetes_X, diabetes_y)"
   ]
  },
  {
   "cell_type": "code",
   "execution_count": 10,
   "metadata": {},
   "outputs": [],
   "source": [
    "# !pip install snakeviz"
   ]
  },
  {
   "cell_type": "code",
   "execution_count": 14,
   "metadata": {},
   "outputs": [
    {
     "name": "stdout",
     "output_type": "stream",
     "text": [
      "snakeviz web server started on 127.0.0.1:8080; enter Ctrl-C to exit\n",
      "http://127.0.0.1:8080/snakeviz/%2FUsers%2Fmat%2FDesktop%2Fadv_ml%2Fproject%2Flogistic_regression%2Fprofiling%2Fadam.prof\n",
      "^C\n",
      "\n",
      "Bye!\n"
     ]
    }
   ],
   "source": [
    "!snakeviz profiling/adam.prof"
   ]
  },
  {
   "cell_type": "code",
   "execution_count": 13,
   "metadata": {},
   "outputs": [
    {
     "name": "stdout",
     "output_type": "stream",
     "text": [
      "snakeviz web server started on 127.0.0.1:8080; enter Ctrl-C to exit\n",
      "http://127.0.0.1:8080/snakeviz/%2FUsers%2Fmat%2FDesktop%2Fadv_ml%2Fproject%2Flogistic_regression%2Fprofiling%2Fsgd.prof\n",
      "^C\n",
      "\n",
      "Bye!\n"
     ]
    }
   ],
   "source": [
    "!snakeviz profiling/sgd.prof"
   ]
  },
  {
   "cell_type": "code",
   "execution_count": null,
   "metadata": {},
   "outputs": [],
   "source": []
  }
 ],
 "metadata": {
  "kernelspec": {
   "display_name": "asseco",
   "language": "python",
   "name": "python3"
  },
  "language_info": {
   "codemirror_mode": {
    "name": "ipython",
    "version": 3
   },
   "file_extension": ".py",
   "mimetype": "text/x-python",
   "name": "python",
   "nbconvert_exporter": "python",
   "pygments_lexer": "ipython3",
   "version": "3.10.4"
  }
 },
 "nbformat": 4,
 "nbformat_minor": 2
}
