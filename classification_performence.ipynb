{
 "cells": [
  {
   "cell_type": "code",
   "execution_count": 1,
   "metadata": {},
   "outputs": [],
   "source": [
    "import numpy as np\n",
    "from sklearn.discriminant_analysis import (\n",
    "    LinearDiscriminantAnalysis,\n",
    "    QuadraticDiscriminantAnalysis,\n",
    ")\n",
    "from sklearn.ensemble import RandomForestClassifier\n",
    "from sklearn.model_selection import train_test_split\n",
    "from sklearn.tree import DecisionTreeClassifier\n",
    "from typing import Union, List, Literal\n",
    "import pandas as pd\n",
    "\n",
    "import matplotlib.pyplot as plt\n",
    "import numpy as np\n",
    "import pandas as pd\n",
    "import seaborn as sns\n",
    "import time\n",
    "\n",
    "\n",
    "import logistic_regression\n",
    "import matplotlib.pyplot as plt\n",
    "from sklearn.model_selection import train_test_split\n",
    "from collections import defaultdict\n",
    "\n",
    "np.random.seed(44)  # for comparison of results"
   ]
  },
  {
   "cell_type": "code",
   "execution_count": 2,
   "metadata": {},
   "outputs": [],
   "source": [
    "def confusion_matrix(\n",
    "    y_true: Union[np.ndarray, pd.DataFrame], y_pred: Union[np.ndarray, pd.DataFrame]\n",
    ") -> np.ndarray:\n",
    "    \"\"\"\n",
    "    function returns confusion matrix\n",
    "\n",
    "    \"\"\"\n",
    "    y_true = y_true.astype(bool)\n",
    "    y_pred = y_pred.astype(bool)\n",
    "\n",
    "    TP = np.sum(y_true & y_pred)\n",
    "    TN = np.sum(~y_true & ~y_pred)\n",
    "    FP = np.sum(~y_true & y_pred)\n",
    "    FN = np.sum(y_true & ~y_pred)\n",
    "\n",
    "    return np.array([[TP, FP], [FN, TN]])\n",
    "\n",
    "\n",
    "def balanced_accuracy(\n",
    "    y_true: Union[np.ndarray, pd.DataFrame], y_pred: Union[np.ndarray, pd.DataFrame]\n",
    ") -> float:\n",
    "    \"\"\"\n",
    "    function returns balanced accuracy of classification\n",
    "    \"\"\"\n",
    "\n",
    "    conf = confusion_matrix(y_true, y_pred)\n",
    "    TPR = conf[0, 0] / (conf[0, 0] + conf[1, 0])\n",
    "    TNR = conf[1, 1] / (conf[1, 1] + conf[0, 1])\n",
    "\n",
    "    return 0.5 * (TPR + TNR)"
   ]
  },
  {
   "cell_type": "code",
   "execution_count": 3,
   "metadata": {},
   "outputs": [],
   "source": [
    "def compare_methods(\n",
    "    X: Union[np.ndarray, pd.DataFrame],\n",
    "    y: Union[np.ndarray, pd.DataFrame],\n",
    "    k=5,\n",
    "    test_size=0.2,\n",
    "    interaction=False,\n",
    "):\n",
    "    \"\"\"\n",
    "    function compares performance of several build-in classification models\n",
    "\n",
    "    \"\"\"\n",
    "    methods = [\"decision tree\", \"random forest\", \"LDA\", \"QDA\"]\n",
    "    optimizers = [\"sgd\", \"adam\", \"iwls\"]\n",
    "    results = {}\n",
    "\n",
    "    for iteration in range(k):\n",
    "        X_train, X_test, y_train, y_test = train_test_split(\n",
    "            X, y, test_size=test_size, random_state=iteration\n",
    "        )\n",
    "\n",
    "        for method in methods:\n",
    "            if method == \"LDA\":\n",
    "                model = LinearDiscriminantAnalysis()\n",
    "            elif method == \"QDA\":\n",
    "                model = QuadraticDiscriminantAnalysis()\n",
    "            elif method == \"decision tree\":\n",
    "                model = DecisionTreeClassifier()\n",
    "            elif method == \"random forest\":\n",
    "                model = RandomForestClassifier()\n",
    "\n",
    "            model.fit(X_train, y_train)\n",
    "            y_pred = model.predict(X_test)\n",
    "            results[method] = results.get(method, []) + [\n",
    "                balanced_accuracy(y_test, y_pred)\n",
    "            ]\n",
    "\n",
    "        # logistic regression\n",
    "        for optimizer in optimizers:\n",
    "            model = logistic_regression.LogisticRegressor(descent_algorithm=optimizer)\n",
    "            model.fit(X_train, y_train)\n",
    "            results[optimizer] = results.get(optimizer, []) + [\n",
    "                model.balanced_accuracy(X_test, y_test)\n",
    "            ]\n",
    "\n",
    "        if interaction:\n",
    "            for optimizer in optimizers:\n",
    "                model = logistic_regression.LogisticRegressor(\n",
    "                    descent_algorithm=optimizer, include_interactions=True\n",
    "                )\n",
    "                model.fit(X_train, y_train)\n",
    "                results[optimizer + \"_inter\"] = results.get(\n",
    "                    optimizer + \"_inter\", []\n",
    "                ) + [model.balanced_accuracy(X_test, y_test)]\n",
    "    results = pd.DataFrame(results)\n",
    "    results = results.melt(var_name=\"Algorithm\", value_name=\"Balanced Accuracy\")\n",
    "    return results"
   ]
  },
  {
   "cell_type": "code",
   "execution_count": 4,
   "metadata": {},
   "outputs": [],
   "source": [
    "def process_df(name):\n",
    "    df = pd.read_csv(f\"data/{name}.csv\")\n",
    "    if len(df) > 12000:\n",
    "        print(f\"Downsampling {name} to 12000 samples form {len(df)} samples\")\n",
    "        df = df.sample(n=12000)\n",
    "    df_y = df[\"target\"]\n",
    "    df_X = df.drop(columns=[\"target\"])\n",
    "    mean = df_X.mean()\n",
    "    std = df_X.std()\n",
    "    df_X = (df_X - mean) / std\n",
    "    return df_X, df_y"
   ]
  },
  {
   "cell_type": "code",
   "execution_count": 5,
   "metadata": {},
   "outputs": [],
   "source": [
    "def visualize_balanced_accuracy(metrisc_df, name, folder):\n",
    "    plt.figure(figsize=(14, 5))\n",
    "    sns.set_theme(style=\"whitegrid\")\n",
    "    sns.boxplot(\n",
    "        data=metrisc_df,\n",
    "        x=\"Algorithm\",\n",
    "        y=\"Balanced Accuracy\",\n",
    "        palette=sns.color_palette(\"husl\", 10),\n",
    "    )\n",
    "    plt.title(f\"Balanced Accuracy for {name} dataset\", fontsize=15)\n",
    "    plt.xlabel(\"Algorithm\", fontsize=12)\n",
    "    plt.ylabel(\"Balanced Accuracy\", fontsize=12)\n",
    "    plt.savefig(f\"plots/{folder}/{name}.png\")\n",
    "    plt.show()"
   ]
  },
  {
   "cell_type": "code",
   "execution_count": 6,
   "metadata": {},
   "outputs": [],
   "source": [
    "X, y = process_df(\"raisin\")\n",
    "results = compare_methods(X, y, k=2, interaction=False)"
   ]
  },
  {
   "cell_type": "code",
   "execution_count": 8,
   "metadata": {},
   "outputs": [
    {
     "data": {
      "image/png": "[encoded data removed]",
      "text/plain": [
       "<Figure size 1400x500 with 1 Axes>"
      ]
     },
     "metadata": {},
     "output_type": "display_data"
    }
   ],
   "source": [
    "visualize_balanced_accuracy(results, \"raisin\", \"accuracy_comparison\")"
   ]
  },
  {
   "cell_type": "code",
   "execution_count": 9,
   "metadata": {},
   "outputs": [],
   "source": [
    "sets = [\"diabetes\", \"rice\", \"raisin\"]\n",
    "for name in sets:\n",
    "    X, y = process_df(name)\n",
    "    results = compare_methods(X, y, k=10, interaction=True)\n",
    "    folder = \"accuracy_comparison_interactions\"\n",
    "    visualize_balanced_accuracy(results, name, folder)"
   ]
  },
  {
   "cell_type": "code",
   "execution_count": null,
   "metadata": {},
   "outputs": [],
   "source": [
    "sets = [\"aids\", \"campaign\", \"communities_and_crime\", \"dry_bean\", \"heart\", \"polish_companies_bankruptcy\"]\n",
    "for name in sets:\n",
    "    X, y = process_df(name)\n",
    "    results = compare_methods(X, y, k=10, interaction=False)\n",
    "    folder = \"accuracy_comparison\"\n",
    "    visualize_balanced_accuracy(results, name, folder)"
   ]
  }
 ],
 "metadata": {
  "kernelspec": {
   "display_name": "asseco",
   "language": "python",
   "name": "python3"
  },
  "language_info": {
   "codemirror_mode": {
    "name": "ipython",
    "version": 3
   },
   "file_extension": ".py",
   "mimetype": "text/x-python",
   "name": "python",
   "nbconvert_exporter": "python",
   "pygments_lexer": "ipython3",
   "version": "3.10.4"
  }
 },
 "nbformat": 4,
 "nbformat_minor": 2
}
